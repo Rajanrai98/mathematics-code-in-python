{
 "cells": [
  {
   "cell_type": "code",
   "execution_count": 33,
   "id": "0b2d2ae2",
   "metadata": {},
   "outputs": [
    {
     "name": "stdout",
     "output_type": "stream",
     "text": [
      "display multiplication table of: 2\n",
      "2\n",
      "4\n",
      "6\n",
      "8\n",
      "10\n",
      "12\n",
      "14\n",
      "16\n",
      "18\n",
      "20\n"
     ]
    }
   ],
   "source": [
    "num = int(input(\"display multiplication table of:\"))\n",
    "\n",
    "for i in range (1,11):\n",
    "    print( f\"{num*i}\")\n",
    "    "
   ]
  },
  {
   "cell_type": "markdown",
   "id": "3e14308f",
   "metadata": {},
   "source": [
    "## # Fibonnaci sequence: it is the series of the number where each number is the sum of the \n",
    "### previous two number one, typically with 0 and 1. so the sequence begin with 0 and 1, the nexr number is obtained by adding previous two number"
   ]
  },
  {
   "cell_type": "code",
   "execution_count": null,
   "id": "fb892b63",
   "metadata": {},
   "outputs": [],
   "source": [
    "nterms = int(input(\"how many terms\"))\n",
    "\n",
    "## first two terms\n",
    "n1,n2 = 0,1\n",
    "count = 0\n",
    "\n",
    "## if the number of term is valid\n",
    "if nterms<= 0:\n",
    "    print(\"please enter the positive integer\")\n",
    "    \n",
    "## if there is onnly one term,return n1\n",
    "elif nterms ==1:\n",
    "    print(\"Fibonacci sequence upto\",nterms,\":\")\n",
    "    print(n1)\n",
    "    \n",
    "## generate fibonnaci sequence\n",
    "    \n",
    "else:\n",
    "    print(\"fibonacci sequence:\")\n",
    "    while count< nterms:\n",
    "        print(n1)\n",
    "        nth = n1+n2\n",
    "        n1 = n2\n",
    "        n2 = nth\n",
    "        count +=1"
   ]
  },
  {
   "cell_type": "code",
   "execution_count": null,
   "id": "1a5bffda",
   "metadata": {},
   "outputs": [],
   "source": [
    "nterms = int(input(\"how many terms\"))\n",
    "\n",
    "n1,n2 = 0,1\n",
    "count = 0\n",
    "\n",
    "if nterms<= 0:\n",
    "    print(\"the number is positive\")\n",
    "    \n",
    "elif nterms ==1:\n",
    "    print(\"fibonnaci sequence upto\",nterms,\":\")\n",
    "    \n",
    "else:\n",
    "    print(\"fibonnaci sequence\")\n",
    "    while count<nterms:\n",
    "        print(n1)\n",
    "        nth = n1+n2\n",
    "        n1 = n2\n",
    "        n2 = nth\n",
    "        count +=1"
   ]
  },
  {
   "cell_type": "code",
   "execution_count": null,
   "id": "5552d6e3",
   "metadata": {},
   "outputs": [],
   "source": [
    "## python program to find the hcf of two numbers\n",
    "\n",
    "def compute_hcf(x,y):\n",
    "    if x>y:\n",
    "        smaller = y\n",
    "    else:\n",
    "        smaller = x\n",
    "    for i in range(1,smaller+1):\n",
    "        if((x%i==0) and (y%i ==0)):\n",
    "            hcf = i\n",
    "            \n",
    "    return hcf\n",
    "\n",
    "num1 = int(input(\"enter the number:\"))\n",
    "num2 = int(input(\"enter the number:\"))\n",
    "\n",
    "print(\"The H.C.F is\", compute_hcf(num1,num2))"
   ]
  },
  {
   "cell_type": "code",
   "execution_count": null,
   "id": "bf8d0aae",
   "metadata": {},
   "outputs": [],
   "source": [
    "def compute_hcf(x,y):\n",
    "    if x>y:\n",
    "        smaller = y\n",
    "    else:\n",
    "        smaller = x\n",
    "    for i in range(1,smaller+1):\n",
    "        if((x%i==0) and (y%i==0)):\n",
    "            hcf = i\n",
    "        \n",
    "    return hcf\n",
    "\n",
    "num1 = int(input(\"enter the number:\"))\n",
    "num2 = int(input(\"enter the number:\"))\n",
    "print(\"the hcf is\",compute_hcf(num1,num2))\n",
    "    "
   ]
  },
  {
   "cell_type": "code",
   "execution_count": null,
   "id": "fdb4ca2a",
   "metadata": {},
   "outputs": [],
   "source": [
    "## define arithmatic operation\n",
    "\n",
    "def addition(x,y):\n",
    "    sum = x+y\n",
    "    return sum\n",
    "\n",
    "num1 = int(input(\"enter the number1\"))\n",
    "num2 = int(input(\"enter the number2\"))\n",
    "print(\"sum of two number\",addition(num1 , num2))"
   ]
  },
  {
   "cell_type": "code",
   "execution_count": null,
   "id": "994759d5",
   "metadata": {},
   "outputs": [],
   "source": [
    "def division(x,y):\n",
    "    div = x/y\n",
    "    return div\n",
    "num1 = int(input(\"enter the number\"))\n",
    "num2 = int(input(\"enter the number\"))\n",
    "print(\"result of division\",division(num1 , num2))"
   ]
  },
  {
   "cell_type": "code",
   "execution_count": null,
   "id": "ac2d1c8f",
   "metadata": {},
   "outputs": [],
   "source": [
    "## calculate the area of traingle:\n",
    "\n",
    "def area_of_traingle(base,height):\n",
    "    area = 1/2*(base*height)\n",
    "    return area\n",
    "\n",
    "base = int(input(\"enter the value of  base\"))\n",
    "height = int(input(\"enter the value of height\"))\n",
    "print(\"area of traingle\",area_of_traingle(base , height))"
   ]
  },
  {
   "cell_type": "code",
   "execution_count": null,
   "id": "56b38546",
   "metadata": {},
   "outputs": [],
   "source": [
    "# write a program to swap two variables.\n",
    "\n",
    "a = int(input(\"enter the value of the first variable (a):\"))\n",
    "b = int(input(\"enter the value of second variable (b):\"))\n",
    "\n",
    "print(f\"orginal values: a = {a} , b = {b}\")\n",
    "\n",
    "## swap th value using temporary variables\n",
    "\n",
    "temp = a\n",
    "a = b\n",
    "b = temp\n",
    "\n",
    "## display the swapped values\n",
    "\n",
    "print(f\"swapped values: a = {a} , b = {b}\")"
   ]
  },
  {
   "cell_type": "code",
   "execution_count": null,
   "id": "2253ab47",
   "metadata": {},
   "outputs": [],
   "source": [
    "import random\n",
    "print(\"random number\",{random.randint(1,100)})"
   ]
  },
  {
   "cell_type": "code",
   "execution_count": null,
   "id": "fa118f0d",
   "metadata": {},
   "outputs": [],
   "source": [
    "print(\"random values\",{random.randint(1,20)})"
   ]
  },
  {
   "cell_type": "code",
   "execution_count": null,
   "id": "99211529",
   "metadata": {},
   "outputs": [],
   "source": [
    "print(\"random value\",{random.randint(1,10)})"
   ]
  },
  {
   "cell_type": "code",
   "execution_count": null,
   "id": "da21cce1",
   "metadata": {},
   "outputs": [],
   "source": [
    "## conversion factor\n",
    "\n",
    "def miles_to_km(miles):\n",
    "    kilometer = miles*1.6\n",
    "    return kilometer\n",
    "\n",
    "miles = int(input(\"enter the miles\"))\n",
    "print(\"mile_to_km\",miles_to_km(miles))"
   ]
  },
  {
   "cell_type": "code",
   "execution_count": null,
   "id": "2c2c6e4c",
   "metadata": {},
   "outputs": [],
   "source": [
    "## write a program from fahrenheit to celcius\n",
    "def fah_to_cel(fahrenheit):\n",
    "    cel = (fahrenheit-32)/1.8\n",
    "    return cel\n",
    "fahrenheit = int(input(\"enter the number\"))\n",
    "print(\"fah_to_cel\",fah_to_cel(fahrenheit))"
   ]
  },
  {
   "cell_type": "code",
   "execution_count": null,
   "id": "b8b46833",
   "metadata": {},
   "outputs": [],
   "source": [
    "## write aprogram to display calender\n",
    "\n",
    "import calendar\n",
    "\n",
    "year = int(input(\"enter year:\"))\n",
    "month = int(input(\"enter month\"))\n",
    "\n",
    "cal = calendar.month(year , month)\n",
    "print(cal)"
   ]
  },
  {
   "cell_type": "code",
   "execution_count": null,
   "id": "02a445d5",
   "metadata": {},
   "outputs": [],
   "source": [
    "import calendar\n",
    "\n",
    "year = int(input(\"enter the year\"))\n",
    "month = int(input(\"enter the month\"))\n",
    "\n",
    "cal = calendar.month(year , month)\n",
    "print(cal)"
   ]
  },
  {
   "cell_type": "code",
   "execution_count": 3,
   "id": "f73e7cdf",
   "metadata": {},
   "outputs": [],
   "source": [
    "import numpy as np\n",
    "import cmath"
   ]
  },
  {
   "cell_type": "code",
   "execution_count": 5,
   "id": "0b24dba7",
   "metadata": {},
   "outputs": [
    {
     "name": "stdout",
     "output_type": "stream",
     "text": [
      "root1: (2+0j)\n",
      "root2: (1+0j)\n"
     ]
    }
   ],
   "source": [
    "## write a program to solve quadratic equation\n",
    "\n",
    "def quadratic_equation(a, b,c):\n",
    "    result = cmath.sqrt(b**2-4*a*c)\n",
    "\n",
    "    \n",
    "## calculate the two solution using quadratic formula\n",
    "\n",
    "    root1 = (-b+result)/(2*a)\n",
    "    root2 = (-b-result)/(2*a)\n",
    "    return root1 , root2\n",
    "\n",
    "a =  1\n",
    "b = -3\n",
    "c = 2\n",
    "\n",
    "roots = quadratic_equation(a,b,c)\n",
    "print(\"root1:\",roots[0])\n",
    "print(\"root2:\",roots[1])"
   ]
  },
  {
   "cell_type": "code",
   "execution_count": 6,
   "id": "0e211305",
   "metadata": {},
   "outputs": [
    {
     "name": "stdout",
     "output_type": "stream",
     "text": [
      "Root 1: (2+0j)\n",
      "Root 2: (1+0j)\n"
     ]
    }
   ],
   "source": [
    "import cmath  # Import the complex math module for handling complex numbers\n",
    "\n",
    "def quadratic_formula(a, b, c):\n",
    "    # Calculate the discriminant\n",
    "    discriminant = cmath.sqrt(b**2 - 4*a*c)\n",
    "\n",
    "    # Calculate the two solutions using the quadratic formula\n",
    "    root1 = (-b + discriminant) / (2*a)\n",
    "    root2 = (-b - discriminant) / (2*a)\n",
    "\n",
    "    return root1, root2\n",
    "\n",
    "# Example usage\n",
    "a = 1\n",
    "b = -3\n",
    "c = 2\n",
    "\n",
    "roots = quadratic_formula(a, b, c)\n",
    "print(\"Root 1:\", roots[0])\n",
    "print(\"Root 2:\", roots[1])\n"
   ]
  },
  {
   "cell_type": "code",
   "execution_count": 7,
   "id": "6e57b48e",
   "metadata": {},
   "outputs": [
    {
     "name": "stdout",
     "output_type": "stream",
     "text": [
      "2 5\n"
     ]
    }
   ],
   "source": [
    "a = 2\n",
    "b = 5\n",
    "print(a, b)"
   ]
  },
  {
   "cell_type": "code",
   "execution_count": 8,
   "id": "a0e42a76",
   "metadata": {},
   "outputs": [
    {
     "name": "stdout",
     "output_type": "stream",
     "text": [
      "2 5\n"
     ]
    }
   ],
   "source": [
    "a = 2\n",
    "b = 5\n",
    "a, b =  b , a\n",
    "print(b,a\n",
    "     )"
   ]
  },
  {
   "cell_type": "code",
   "execution_count": 9,
   "id": "da3d1826",
   "metadata": {},
   "outputs": [
    {
     "name": "stdout",
     "output_type": "stream",
     "text": [
      "enter the number 25\n",
      "the number is odd\n"
     ]
    }
   ],
   "source": [
    "## write a program to check even and odd number\n",
    "num = float(input(\"enter the number\"))\n",
    "if num%2==0:\n",
    "    print(\"the number is even\")\n",
    "else:\n",
    "    print(\"the number is odd\")\n",
    "    "
   ]
  },
  {
   "cell_type": "code",
   "execution_count": 10,
   "id": "801cc78f",
   "metadata": {},
   "outputs": [
    {
     "name": "stdout",
     "output_type": "stream",
     "text": [
      "enter the number -2\n",
      "negative number\n"
     ]
    }
   ],
   "source": [
    "## write a program to check a number if it is positive , negative , zero\n",
    "\n",
    "num = int(input(\"enter the number\"))\n",
    "if num>=0:\n",
    "    print(\"the num  is positive\")\n",
    "elif num==0:\n",
    "    print(\"zero\")\n",
    "    \n",
    "else:\n",
    "    print(\"negative number\")"
   ]
  },
  {
   "cell_type": "code",
   "execution_count": 12,
   "id": "c3d16ff4",
   "metadata": {},
   "outputs": [
    {
     "name": "stdout",
     "output_type": "stream",
     "text": [
      "1\n"
     ]
    }
   ],
   "source": [
    "## write a program to check leap year\n",
    "import math\n",
    "\n",
    "def calculate_hcf(num1, num2):\n",
    "    \"\"\"\n",
    "    Calculate the HCF (GCD) of two numbers.\n",
    "\n",
    "    Parameters:\n",
    "    - num1 (int): The first number.\n",
    "    - num2 (int): The second number.\n",
    "\n",
    "    Returns:\n",
    "    - int: The HCF of the two numbers.\n",
    "    \"\"\"\n",
    "    hcf = math.gcd(num1, num2)\n",
    "    return hcf\n",
    "\n",
    "# Example usage\n",
    "number1 = 48\n",
    "number2 = 18\n",
    "\n",
    "hcf_result = calculate_hcf(number1, number2)\n",
    "print(calculate_hcf(25,36))\n"
   ]
  },
  {
   "cell_type": "code",
   "execution_count": 13,
   "id": "a0cb162f",
   "metadata": {},
   "outputs": [
    {
     "name": "stdout",
     "output_type": "stream",
     "text": [
      "2024 is a leap year.\n"
     ]
    }
   ],
   "source": [
    "def is_leap_year(year):\n",
    "    \"\"\"\n",
    "    Check if the given year is a leap year.\n",
    "\n",
    "    Parameters:\n",
    "    - year (int): The year to be checked.\n",
    "\n",
    "    Returns:\n",
    "    - bool: True if the year is a leap year, False otherwise.\n",
    "    \"\"\"\n",
    "    if (year % 4 == 0 and year % 100 != 0) or (year % 400 == 0):\n",
    "        return True\n",
    "    else:\n",
    "        return False\n",
    "\n",
    "# Example usage\n",
    "year_to_check = 2024\n",
    "\n",
    "if is_leap_year(year_to_check):\n",
    "    print(f\"{year_to_check} is a leap year.\")\n",
    "else:\n",
    "    print(f\"{year_to_check} is not a leap year.\")\n"
   ]
  },
  {
   "cell_type": "code",
   "execution_count": 22,
   "id": "7f5c8436",
   "metadata": {},
   "outputs": [
    {
     "name": "stdout",
     "output_type": "stream",
     "text": [
      "not a leap year\n"
     ]
    }
   ],
   "source": [
    "def leap_year(year):\n",
    "    if (year%4==0 , year%100!=0)or (year%400==0):\n",
    "        return True\n",
    "    else:\n",
    "        return False\n",
    "    \n",
    "year_to_check = 2025\n",
    "\n",
    "if is_leap_year(year_to_check):\n",
    "    print(\"2024 is a leap year\")\n",
    "else:\n",
    "    print(\"not a leap year\")"
   ]
  },
  {
   "cell_type": "code",
   "execution_count": 25,
   "id": "5f9d3319",
   "metadata": {},
   "outputs": [
    {
     "name": "stdout",
     "output_type": "stream",
     "text": [
      "year is not leap\n"
     ]
    }
   ],
   "source": [
    "def leap_year(year):\n",
    "    if(year%4==0 , year%100!=0) or (year%400 ==0):\n",
    "       return True\n",
    "    else:\n",
    "       return False\n",
    "       \n",
    "year_to_check = 2025\n",
    "\n",
    "if is_leap_year(year_to_check):\n",
    "       print(\"2024 year is leap\")\n",
    "else:\n",
    "       print(\"year is not leap\")"
   ]
  },
  {
   "cell_type": "code",
   "execution_count": null,
   "id": "078bc463",
   "metadata": {},
   "outputs": [],
   "source": [
    "def is_prime(number):\n",
    "    \"\"\"\n",
    "    Check if the given number is a prime number.\n",
    "\n",
    "    Parameters:\n",
    "    - number (int): The number to be checked.\n",
    "\n",
    "    Returns:\n",
    "    - bool: True if the number is prime, False otherwise.\n",
    "    \"\"\"\n",
    "    if number < 2:\n",
    "        return False\n",
    "    for i in range(2, int(number**0.5) + 1):\n",
    "        if number % i == 0:\n",
    "            return False\n",
    "    return True\n",
    "\n",
    "# Example usage\n",
    "num_to_check = 17\n",
    "\n",
    "if is_prime(num_to_check):\n",
    "    print(f\"{num_to_check} is a prime number.\")\n",
    "else:\n",
    "    print(f\"{num_to_check} is not a prime number.\")\n"
   ]
  },
  {
   "cell_type": "code",
   "execution_count": 28,
   "id": "ca7a249e",
   "metadata": {},
   "outputs": [],
   "source": [
    "def prime_num(number):\n",
    "    if number>2:\n",
    "        return False\n",
    "    for i in range(2,int(number**0.5)+1):\n",
    "        if number%i ==0:\n",
    "            return False\n",
    "    return True\n",
    "\n"
   ]
  },
  {
   "cell_type": "code",
   "execution_count": 29,
   "id": "3b979686",
   "metadata": {},
   "outputs": [
    {
     "data": {
      "text/plain": [
       "False"
      ]
     },
     "execution_count": 29,
     "metadata": {},
     "output_type": "execute_result"
    }
   ],
   "source": [
    "prime_num(17)"
   ]
  },
  {
   "cell_type": "code",
   "execution_count": 31,
   "id": "0c77f3fb",
   "metadata": {},
   "outputs": [
    {
     "name": "stdout",
     "output_type": "stream",
     "text": [
      "enter the number 7\n",
      "prime number False\n"
     ]
    }
   ],
   "source": [
    "def prime_num(num):\n",
    "    if num>2:\n",
    "        return False\n",
    "    for i in range(2,int(num**0.5)+1):\n",
    "        if num%i==0:\n",
    "            return False\n",
    "    return True\n",
    "\n",
    "number = int(input(\"enter the number\"))\n",
    "print(\"prime number\",prime_num(number))\n",
    "    "
   ]
  },
  {
   "cell_type": "code",
   "execution_count": 32,
   "id": "003a18c4",
   "metadata": {},
   "outputs": [
    {
     "name": "stdout",
     "output_type": "stream",
     "text": [
      "prime number between 1 and 10 are:\n",
      "3\n",
      "5\n",
      "5\n",
      "5\n",
      "7\n",
      "7\n",
      "7\n",
      "7\n",
      "7\n",
      "9\n"
     ]
    }
   ],
   "source": [
    "## write a program to display all the prime number within an interval\n",
    "\n",
    "lower = 1\n",
    "upper = 10\n",
    "\n",
    "print(\"prime number between\",lower,\"and\",upper,\"are:\")\n",
    "\n",
    "for num in range(lower , upper+1):\n",
    "    if num>1:\n",
    "        for i in range(2,num):\n",
    "            if (num%i)==0:\n",
    "                break\n",
    "            else:\n",
    "                print(num)"
   ]
  },
  {
   "cell_type": "code",
   "execution_count": 35,
   "id": "61024531",
   "metadata": {},
   "outputs": [
    {
     "name": "stdout",
     "output_type": "stream",
     "text": [
      "enter the number: 5\n",
      "the factorial of 5 is 120\n"
     ]
    }
   ],
   "source": [
    "## write a program to find a factorial of a number\n",
    "num  = int(input(\"enter the number:\"))\n",
    "factorial = 1\n",
    "if num<0:\n",
    "    print(\"factorial does not exist for negative number\")\n",
    "elif num ==0:\n",
    "    print(\"factorial of 0 is 1\")\n",
    "    \n",
    "else:\n",
    "    for i in range(1,num+1):\n",
    "        factorial = factorial*i\n",
    "    print(f'the factorial of {num} is {factorial}')"
   ]
  },
  {
   "cell_type": "code",
   "execution_count": null,
   "id": "41395a82",
   "metadata": {},
   "outputs": [],
   "source": [
    "\n",
    "        "
   ]
  }
 ],
 "metadata": {
  "kernelspec": {
   "display_name": "Python 3 (ipykernel)",
   "language": "python",
   "name": "python3"
  },
  "language_info": {
   "codemirror_mode": {
    "name": "ipython",
    "version": 3
   },
   "file_extension": ".py",
   "mimetype": "text/x-python",
   "name": "python",
   "nbconvert_exporter": "python",
   "pygments_lexer": "ipython3",
   "version": "3.10.9"
  }
 },
 "nbformat": 4,
 "nbformat_minor": 5
}
